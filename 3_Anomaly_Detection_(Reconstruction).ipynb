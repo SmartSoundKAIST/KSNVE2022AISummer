{
  "nbformat": 4,
  "nbformat_minor": 0,
  "metadata": {
    "colab": {
      "name": "1_Introduction to Anomaly Detection (Reconstruction).ipynb",
      "provenance": [],
      "machine_shape": "hm",
      "collapsed_sections": [],
      "include_colab_link": true
    },
    "kernelspec": {
      "name": "python3",
      "display_name": "Python 3"
    },
    "language_info": {
      "name": "python"
    },
    "accelerator": "GPU"
  },
  "cells": [
    {
      "cell_type": "markdown",
      "metadata": {
        "id": "view-in-github",
        "colab_type": "text"
      },
      "source": [
        "<a href=\"https://colab.research.google.com/github/jhChoi1997/KSNVE-AI-2022-summer/blob/main/code/1_Introduction_to_Anomaly_Detection_(Reconstruction).ipynb\" target=\"_parent\"><img src=\"https://colab.research.google.com/assets/colab-badge.svg\" alt=\"Open In Colab\"/></a>"
      ]
    },
    {
      "cell_type": "markdown",
      "source": [
        "# **2022년 인공지능 강습회 2일차 실습 코드**\n",
        "## **Practice 1 : Introduction to Anomaly Detection (Reconstruction)**\n",
        "\n",
        "Anomaly detection can be done by various pretext tasks. In this session, we will do anomaly detection using reconstruction as a pretext task on the MNIST dataset. 💻"
      ],
      "metadata": {
        "id": "PGdtROTTnqC9"
      }
    },
    {
      "cell_type": "markdown",
      "source": [
        "\n",
        "\n",
        "![image.png](data:image/png;base64,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)"
      ],
      "metadata": {
        "id": "H6MGnF0QF2tO"
      }
    },
    {
      "cell_type": "markdown",
      "source": [
        "## 1. Import packages\n",
        "New library imported for this project: \n",
        "- `Scikit-learn` package: includes useful tools for data analysis & preprocessing (https://scikit-learn.org/stable/)\n",
        "  - We use this package for `anomaly score` metrics\n",
        "- `Matplot` library: for plotting graphs\n",
        "- `Torchinfo`: summarizes and print formatted `model information` "
      ],
      "metadata": {
        "id": "kpCr_K-JxIxh"
      }
    },
    {
      "cell_type": "code",
      "execution_count": null,
      "metadata": {
        "id": "qx0wd0wRJ8zF"
      },
      "outputs": [],
      "source": [
        "!pip install torchinfo                                                          # install torchinfo module \n",
        "import torch\n",
        "from torch import nn\n",
        "from torchvision import datasets                                                # https://pytorch.org/vision/stable/datasets.html\n",
        "from torchvision.transforms import ToTensor\n",
        "from torch.utils.data import DataLoader, TensorDataset, Subset\n",
        "from sklearn import metrics                                                     # for Anomaly scores (https://scikit-learn.org/stable/modules/classes.html#module-sklearn.metrics)\n",
        "import matplotlib.pyplot as plt                                                 # for plotting (https://matplotlib.org/3.5.1/api/_as_gen/matplotlib.pyplot.html)\n",
        "from torchinfo import summary                                                   # for model summary (https://github.com/TylerYep/torchinfo)\n",
        "import numpy as np"
      ]
    },
    {
      "cell_type": "code",
      "source": [
        "device = 'cuda' if torch.cuda.is_available() else 'cpu'                         # use gpu if available\n",
        "print(f'Using {device} device')"
      ],
      "metadata": {
        "id": "QlCEbzhEKCLA"
      },
      "execution_count": null,
      "outputs": []
    },
    {
      "cell_type": "code",
      "source": [
        "plt.rc('font', size=20)                                                         # set the pyplot object with given property (https://matplotlib.org/3.5.1/api/_as_gen/matplotlib.pyplot.rc.html)"
      ],
      "metadata": {
        "id": "AliAaFNheLhH"
      },
      "execution_count": null,
      "outputs": []
    },
    {
      "cell_type": "markdown",
      "source": [
        "## 2. Hyperparameters\n",
        "You can change the hyperparameter below.\n",
        "Parameter `ANOMALY_NUM` means which number to set as an anomaly."
      ],
      "metadata": {
        "id": "vy_GKeckHLHd"
      }
    },
    {
      "cell_type": "code",
      "source": [
        "EPOCHS = 5                                                                      # Number of epochs to train\n",
        "BATCH = 32                                                                      # Minibatch size\n",
        "ANOMALY_NUM = [0]                                                               # (list) Data of digit \"0\" will be used as anomalous data\n",
        "NORMAL_NUM =  [1]                                                               # (list) Data of digit \"1\" will be used as normal data  "
      ],
      "metadata": {
        "id": "YlvTt_YSJ-Vm"
      },
      "execution_count": null,
      "outputs": []
    },
    {
      "cell_type": "markdown",
      "source": [
        "The dataset for anomaly detection is composed of normal data and anomaly data. Normal data can be seen in the train, validation, and test dataset, but anomaly data is not in the train dataset. Here digit `1` will be used as `normal data`, and `0` will be used as `anomaly data`. "
      ],
      "metadata": {
        "id": "oxNJ9sVzHWPj"
      }
    },
    {
      "cell_type": "markdown",
      "source": [
        "## 3. Dataset and Dataloader\n",
        "\n",
        "Here we use MNIST dataset. \n",
        "The datatype of the dataset is a TorchTensor of tuples: (`image tensor`, `target label`)\n",
        "\n",
        "The dimensions of an image tensor is (`channel`=1, `width`=28, `height` =28)\n",
        "\n",
        "Here, we use `Subset` package in `torch.utils.data` to build two sub-datasets (validation, test).\n",
        "\n",
        "MNIST dataset: https://pytorch.org/vision/stable/generated/torchvision.datasets.MNIST.html#torchvision.datasets.MNIST"
      ],
      "metadata": {
        "id": "YuXXf3_JDzLD"
      }
    },
    {
      "cell_type": "code",
      "source": [
        "mnist_train = datasets.MNIST(root='MNIST_data/', train=True, transform=ToTensor(), download=True)\n",
        "mnist_test  = datasets.MNIST(root='MNIST_data/', train=False, transform=ToTensor(), download=True)\n"
      ],
      "metadata": {
        "id": "pyTU5hDNx12J"
      },
      "execution_count": null,
      "outputs": []
    },
    {
      "cell_type": "code",
      "source": [
        "train_idx = [i for i,v in enumerate(mnist_train) if v[1] in NORMAL_NUM]         # get a list of indices with NORMAL_NUM, v is the tuple of (image tensor, label)\n",
        "train_dataset = Subset(mnist_train,train_idx)                                   # get a subset of dataset using train_idx\n",
        "                                     \n",
        "testdigit = ANOMALY_NUM + NORMAL_NUM                                            # join two list\n",
        "test_idx =[i for i,v in enumerate(mnist_test) if v[1] in testdigit]\n",
        "Num_test = int(len(test_idx)/2);\n",
        "\n",
        "test_dataset = Subset(mnist_test,test_idx[:Num_test])\n",
        "val_dataset = Subset(mnist_test,test_idx[Num_test:])\n",
        "\n",
        "train_dataloader = DataLoader(train_dataset, batch_size=BATCH, shuffle=True)\n",
        "val_dataloader = DataLoader(val_dataset, batch_size=BATCH)\n",
        "test_dataloader = DataLoader(test_dataset, batch_size=BATCH)"
      ],
      "metadata": {
        "id": "hGifb5nZJ_Hg"
      },
      "execution_count": null,
      "outputs": []
    },
    {
      "cell_type": "markdown",
      "source": [
        "Dataset length is like below."
      ],
      "metadata": {
        "id": "aL2kA9btGXmf"
      }
    },
    {
      "cell_type": "code",
      "source": [
        "print(len(train_dataset))\n",
        "print(len(val_dataset))\n",
        "print(len(test_dataset))"
      ],
      "metadata": {
        "id": "KOdcnDsLzvxy"
      },
      "execution_count": null,
      "outputs": []
    },
    {
      "cell_type": "markdown",
      "source": [
        "## 4. Define a DNN model \n",
        "We will use a simple autoencoder for practice."
      ],
      "metadata": {
        "id": "xKbRZRjAKuNH"
      }
    },
    {
      "cell_type": "markdown",
      "source": [
        "![AutoEncoder.png](data:image/png;base64,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)"
      ],
      "metadata": {
        "id": "wrEl7ABhcgnb"
      }
    },
    {
      "cell_type": "code",
      "source": [
        "class AutoEncoder(nn.Module):\n",
        "    def __init__(self, encoding_dim):\n",
        "        super(AutoEncoder, self).__init__()\n",
        "        self.encoding_dim = encoding_dim\n",
        "        self.encoder = nn.Sequential(\n",
        "            nn.Linear(28*28, self.encoding_dim),\n",
        "            nn.ReLU()\n",
        "        )\n",
        "        self.decoder = nn.Sequential(\n",
        "            nn.Linear(self.encoding_dim, 784),\n",
        "            nn.Sigmoid()\n",
        "        )\n",
        "\n",
        "    def forward(self, x):\n",
        "        out = x.reshape(x.size(0), -1)\n",
        "        out = self.encoder(out)\n",
        "        out = self.decoder(out)\n",
        "        out = out.view(x.size())\n",
        "        return out"
      ],
      "metadata": {
        "id": "BxcIF_KSKAuh"
      },
      "execution_count": null,
      "outputs": []
    },
    {
      "cell_type": "code",
      "source": [
        "model = AutoEncoder(64).to(device)\n",
        "summary(model,input_size=(BATCH,1,28,28))                                       # summary(model, input_size)"
      ],
      "metadata": {
        "id": "GKbS81WbU-8x"
      },
      "execution_count": null,
      "outputs": []
    },
    {
      "cell_type": "markdown",
      "source": [
        "### 4-1. Loss functions & optimizers\n",
        "\n",
        "Loss function and anomaly score are the same MSE between input and reconstructed images. However, we use the option `reduction='none'` for the anomaly score. This flag turn off the average over samples, so we can get MSE values of individual images. "
      ],
      "metadata": {
        "id": "7QRL-Yb4GByy"
      }
    },
    {
      "cell_type": "code",
      "source": [
        "loss_fn = nn.MSELoss()                                                          # create MSE loss object (default reduction: 'mean')\n",
        "anomaly_score = nn.MSELoss(reduction='none')                                    # https://pytorch.org/docs/stable/generated/torch.nn.MSELoss.html \n",
        "optimizer = torch.optim.Adam(model.parameters(), lr=1e-3)"
      ],
      "metadata": {
        "id": "W8-o7nbnKFQC"
      },
      "execution_count": null,
      "outputs": []
    },
    {
      "cell_type": "markdown",
      "source": [
        "## 5. Train & Test classes\n",
        "The design of train & test classes is quite similar to previous examples. "
      ],
      "metadata": {
        "id": "vGFt6uFzFsEP"
      }
    },
    {
      "cell_type": "markdown",
      "source": [
        "### 5-1. Define Train function"
      ],
      "metadata": {
        "id": "x2euDCRjRslh"
      }
    },
    {
      "cell_type": "code",
      "source": [
        "def train(dataloader, model, loss_fn, optimizer):\n",
        "    model.train()                                                               # turn on the train mode\n",
        "\n",
        "    size = len(dataloader.dataset)\n",
        "    losses = []\n",
        "    for batch, X in enumerate(dataloader):\n",
        "        X = X[0].to(device)                                                     # change to tensor data type adequate for the current device \n",
        "        pred = model(X)                                                         # make prediction from a model\n",
        "        loss = loss_fn(pred, X)                                                 # calculate loss function\n",
        "\n",
        "        for idata in range(pred.shape[0]):\n",
        "            iloss = loss_fn(pred[idata,:,:], X[idata,:,:])\n",
        "            losses.append(iloss)                                                # build losses matrix for individual samples   (BATCH)              \n",
        "\n",
        "        optimizer.zero_grad()                                                   # init gradient in optimizer\n",
        "        loss.backward()                                                         # calculate gradient\n",
        "        optimizer.step()                                                        # gradient descent\n",
        "\n",
        "        if batch % 300 == 0:                                                    # display progress for every 300 minibatches              \n",
        "            loss, current = loss.item(), batch * len(X)\n",
        "            print(f\"loss: {loss:>7f}  [{current:>5d}/{size:>5d}]\")\n",
        "\n",
        "    losses = [i.item() for i in losses]                                         # convert the tensor losses to a list\n",
        "    return np.mean(losses)"
      ],
      "metadata": {
        "id": "36YK6WGDKGrB"
      },
      "execution_count": null,
      "outputs": []
    },
    {
      "cell_type": "markdown",
      "source": [
        "Anomaly score is calculated over validation and test datasets. Since the model is trained with normal data, the model may not reconstruct anomaly data well, so the anomaly score of anomaly data will be higher than the anomaly score of normal data. Using difference in anomaly score distributions, ROC-AUC (Area Under Curve) can be calculated."
      ],
      "metadata": {
        "id": "NJN9_7hLYsEI"
      }
    },
    {
      "cell_type": "markdown",
      "source": [
        "### 5-2. Define Test function\n",
        "\n",
        "Evaluate the model and plot results"
      ],
      "metadata": {
        "id": "-j5j6SIoRvDJ"
      }
    },
    {
      "cell_type": "code",
      "source": [
        "def test(dataloader, model, loss_fn, anomaly_score, draw_mode = False):\n",
        "    model.eval()                                                                # turn on the evaluation mode\n",
        "\n",
        "    y_true, y_pred = [], []\n",
        "    normal_loss = []                                                            # separately calculate losses for normal and abnormal data\n",
        "    anomaly_loss = []\n",
        "\n",
        "    with torch.no_grad():                                                       # turn-off the gradient tracker   \n",
        "        for X, y in dataloader:\n",
        "            X, y = X.to(device), y.to(device)                                   # send to GPU or CPU\n",
        "            output = model(X)                                                   # (BATCH,CH,H,W)\n",
        "\n",
        "            for idata in range(output.shape[0]):                                # output from the model is a tensor of information\n",
        "                loss = loss_fn(output[idata,:,:], X[idata,:,:])\n",
        "                if y[idata] in NORMAL_NUM:\n",
        "                    y[idata] = 0                                                # replace original digit label (number) to 0 and 1 (anomality)\n",
        "                    normal_loss.append(loss)\n",
        "                elif y[idata] in ANOMALY_NUM:\n",
        "                    y[idata] = 1\n",
        "                    anomaly_loss.append(loss)\n",
        "            \n",
        "            score = torch.mean(anomaly_score(X, output), (1, 2, 3))             # average in (CH,H,W) dims\n",
        "\n",
        "            y_true.extend(y.tolist())                                           # torchtensor -> list and extend to list y_true\n",
        "            y_pred.extend(score.tolist())\n",
        "\n",
        "    roc_auc = metrics.roc_auc_score(y_true, y_pred)\n",
        "\n",
        "    if draw_mode:\n",
        "        fpr, tpr, _ = metrics.roc_curve(y_true,y_pred)\n",
        "        plt.figure(figsize=(5,5))\n",
        "        plt.plot(fpr,tpr)\n",
        "        plt.title('ROC curve')\n",
        "        plt.xlabel('FPR')\n",
        "        plt.ylabel('TPR')\n",
        "\n",
        "    print(f'ROC AUC: {roc_auc:>0.3f}')\n",
        "    normal_loss = [i.item() for i in normal_loss]\n",
        "    anomaly_loss = [i.item() for i in anomaly_loss]\n",
        "    normal_loss_mean = np.mean(normal_loss)\n",
        "    anomaly_loss_mean = np.mean(anomaly_loss)\n",
        "    print(f'normal loss : {normal_loss_mean}')\n",
        "    print(f'anomaly loss : {anomaly_loss_mean}')\n",
        "    return roc_auc.item(), normal_loss_mean, anomaly_loss_mean, normal_loss, anomaly_loss"
      ],
      "metadata": {
        "id": "GB6qgJ_5KJKI"
      },
      "execution_count": null,
      "outputs": []
    },
    {
      "cell_type": "markdown",
      "source": [
        "## 6. Run Trainer \n",
        "Now all the classes are defined. Let's see how reconstruction loss and AUC changes during training.\n",
        "\n",
        "Loss is calculated during train, and AUC is calculated during validation."
      ],
      "metadata": {
        "id": "WQz51CldI7Qj"
      }
    },
    {
      "cell_type": "code",
      "source": [
        "aucs = []\n",
        "train_normal_losses = []\n",
        "val_normal_losses = []\n",
        "val_anomaly_losses = []\n",
        "best_auc = 0\n",
        "best_model = model.to(device)                                                   # allocate model to GPU or CPU\n",
        "\n",
        "for t in range(EPOCHS):\n",
        "    print(f\"Epoch {t+1}\\n-------------------------------\")\n",
        "    train_normal_loss = train(train_dataloader, model, loss_fn, optimizer)      # train for single epoch\n",
        "    auc, val_normal_loss, val_anomaly_loss, _, _ = test(val_dataloader, model, loss_fn, anomaly_score)      # validation for single epoch\n",
        "\n",
        "    train_normal_losses.append(train_normal_loss)\n",
        "    aucs.append(auc)\n",
        "    val_normal_losses.append(val_normal_loss)\n",
        "    val_anomaly_losses.append(val_anomaly_loss)\n",
        "    if best_auc < auc:                                                          # as num of epoch increases, store the best model (based on AUC)\n",
        "      best_model = model\n",
        "      best_auc = auc"
      ],
      "metadata": {
        "id": "VMrDeedfKKwy"
      },
      "execution_count": null,
      "outputs": []
    },
    {
      "cell_type": "markdown",
      "source": [
        "### 6-1. Plot train results"
      ],
      "metadata": {
        "id": "jzW4f49ZKkCO"
      }
    },
    {
      "cell_type": "code",
      "source": [
        "plt.clf()\n",
        "plt.figure(figsize=(15,5))\n",
        "plt.subplot(1,3,1)\n",
        "plt.plot(list(range(1,len(aucs)+1)),aucs)\n",
        "plt.xlabel('epoch')\n",
        "plt.ylabel('AUC')\n",
        "plt.title('AUC vs epoch')\n",
        "plt.ylim([0, 1])\n",
        "\n",
        "plt.subplot(1,3,2)\n",
        "plt.plot(list(range(1,len(train_normal_losses)+1)),train_normal_losses)\n",
        "plt.plot(list(range(1,len(val_normal_losses)+1)),val_normal_losses)\n",
        "plt.xlabel('epoch')\n",
        "plt.ylabel('loss')\n",
        "plt.title('loss vs epoch')\n",
        "plt.legend(['train loss', 'validation normal loss'], fontsize=10)\n",
        "\n",
        "plt.subplot(1,3,3)\n",
        "plt.plot(list(range(1,len(val_normal_losses)+1)),val_normal_losses)\n",
        "plt.plot(list(range(1,len(val_anomaly_losses)+1)),val_anomaly_losses)\n",
        "plt.xlabel('epoch')\n",
        "plt.ylabel('anomaly score')\n",
        "plt.title('anomaly score vs epoch')\n",
        "plt.legend(['validation normal','validation anomaly'], fontsize=10)"
      ],
      "metadata": {
        "id": "0CDUDqRRcBnF"
      },
      "execution_count": null,
      "outputs": []
    },
    {
      "cell_type": "markdown",
      "source": [
        "## 7. Performance on test data."
      ],
      "metadata": {
        "id": "5ft964J0EQQ7"
      }
    },
    {
      "cell_type": "markdown",
      "source": [
        "### 7-1. ROC-AUC"
      ],
      "metadata": {
        "id": "MQS1IYRj4AXi"
      }
    },
    {
      "cell_type": "code",
      "source": [
        "auc, _, _, test_normal_score, test_anomaly_score = test(test_dataloader, best_model, loss_fn, anomaly_score, True)"
      ],
      "metadata": {
        "id": "M1uHDtWmEQkd"
      },
      "execution_count": null,
      "outputs": []
    },
    {
      "cell_type": "markdown",
      "source": [
        "### 7-2. Histogram of anomaly score "
      ],
      "metadata": {
        "id": "PYTDjKTTeo7N"
      }
    },
    {
      "cell_type": "code",
      "source": [
        "plt.hist(test_normal_score, alpha = 0.8)\n",
        "plt.hist(test_anomaly_score, alpha = 0.8)\n",
        "plt.title('Anomaly score')\n",
        "plt.xlabel('Anomaly score')\n",
        "plt.ylabel('# of data')\n",
        "plt.legend(['normal','anomaly'], fontsize=10)\n",
        "plt.figure(figsize=(10,10))"
      ],
      "metadata": {
        "id": "8KyHx5otbGs9"
      },
      "execution_count": null,
      "outputs": []
    },
    {
      "cell_type": "markdown",
      "source": [
        "============================================================================="
      ],
      "metadata": {
        "id": "yERT8jRMuxwU"
      }
    },
    {
      "cell_type": "markdown",
      "source": [
        "### 7-3. Analysis (Confusion Matrix, Decision Boundary, ROC-AUC)\n",
        "How can we actually get metrics like TPR, FPR from the result?\n"
      ],
      "metadata": {
        "id": "PXB7FbgJsEz4"
      }
    },
    {
      "cell_type": "code",
      "source": [
        "print(len(test_normal_score))\n",
        "print(len(test_anomaly_score))"
      ],
      "metadata": {
        "id": "xR8h5HAusFHf"
      },
      "execution_count": null,
      "outputs": []
    },
    {
      "cell_type": "markdown",
      "source": [
        "First, let's set a decision boundary and make a confusion matrix."
      ],
      "metadata": {
        "id": "-uHVckaLt8aM"
      }
    },
    {
      "cell_type": "code",
      "source": [
        "thres = 0.05                                                                    # decision boundary\n",
        "\n",
        "P = len(test_anomaly_score)\n",
        "N = len(test_normal_score)\n",
        "\n",
        "test_normal_score_np = np.array(test_normal_score)\n",
        "test_anomaly_score_np = np.array(test_anomaly_score)\n",
        "\n",
        "is_normal_anomalous = test_normal_score_np > thres\n",
        "is_anomaly_anomalous = test_anomaly_score_np > thres\n",
        "\n",
        "TP = is_anomaly_anomalous.sum()\n",
        "FN = P - TP\n",
        "FP = is_normal_anomalous.sum()\n",
        "TN = N - FP\n",
        "\n",
        "#print(f'TP : {TP} FN : {FN} FP : {FP} TN : {TN}')\n",
        "import tabulate\n",
        "table = [[' Actual/Pred', 'P', 'N'],['P',f'TP:{TP}',f'FN:{FN}'],['N',f'FP:{FP}',f'TN:{TN}']]\n",
        "print('confusion matrix')\n",
        "print(tabulate.tabulate(table, headers = 'firstrow', tablefmt = 'grid'))\n"
      ],
      "metadata": {
        "id": "1rkNW3GeuwGd"
      },
      "execution_count": null,
      "outputs": []
    },
    {
      "cell_type": "markdown",
      "source": [
        "Now let's calculate TPR, FPR. Also let's calculate precision, recall and f1 score."
      ],
      "metadata": {
        "id": "0gBroMAM0uHU"
      }
    },
    {
      "cell_type": "code",
      "source": [
        "TPR = TP/(TP+FN)\n",
        "FPR = FP/(FP+TN)\n",
        "Precision = TP/(TP+FP)\n",
        "Recall = TP/(TP+FN)\n",
        "F1 = 2/(1/Precision+1/Recall)\n",
        "print(f'TPR: {TPR}, FPR: {FPR}, precision: {Precision}, recall: {Recall}, F1: {F1}')"
      ],
      "metadata": {
        "id": "FK1I37Zk00M7"
      },
      "execution_count": null,
      "outputs": []
    },
    {
      "cell_type": "markdown",
      "source": [
        "Change `threshold` and check how each value changes.\n",
        "\n",
        "The next code block manually calcuates ROC-AUC by moving the decision boundary. \n",
        "You can compare this result with the previous ROC-AUC curve obtained by *metric* package."
      ],
      "metadata": {
        "id": "An0Wvvp62stc"
      }
    },
    {
      "cell_type": "code",
      "source": [
        "P = len(test_anomaly_score)\n",
        "N = len(test_normal_score)\n",
        "\n",
        "test_normal_score_np = np.array(test_normal_score)\n",
        "test_anomaly_score_np = np.array(test_anomaly_score)\n",
        "\n",
        "max_val = np.max([np.max(test_normal_score_np), np.max(test_anomaly_score_np)])\n",
        "\n",
        "thres = np.linspace(0,max_val,num=1000)\n",
        "\n",
        "TPR_list = []\n",
        "FPR_list = []\n",
        "\n",
        "for ithres in thres:\n",
        "  is_normal_anomalous = test_normal_score_np > ithres\n",
        "  is_anomaly_anomalous = test_anomaly_score_np > ithres\n",
        "\n",
        "  TP = is_anomaly_anomalous.sum()\n",
        "  FN = P - TP\n",
        "  FP = is_normal_anomalous.sum()\n",
        "  TN = N - FP\n",
        "\n",
        "  TPR = TP/(TP+FN)\n",
        "  FPR = FP/(FP+TN)\n",
        "\n",
        "  TPR_list.append(TPR)\n",
        "  FPR_list.append(FPR)\n",
        "\n",
        "\n",
        "plt.figure(figsize=(5,5))\n",
        "plt.plot(FPR_list,TPR_list)\n",
        "plt.title('ROC curve')\n",
        "plt.xlabel('FPR')\n",
        "plt.ylabel('TPR')\n",
        "\n",
        "AUC = np.trapz(np.flip(np.array(TPR_list)).tolist(),np.flip(np.array(FPR_list)).tolist())\n",
        "print(f'ROC AUC : {AUC}')"
      ],
      "metadata": {
        "id": "sTV-ur4cu2Ns"
      },
      "execution_count": null,
      "outputs": []
    },
    {
      "cell_type": "markdown",
      "source": [
        "## 8. Image comparison \n",
        "\n",
        "Below code plots figure of the original input image and reconstructed image."
      ],
      "metadata": {
        "id": "VZ1rxGRnu021"
      }
    },
    {
      "cell_type": "code",
      "source": [
        "# plt.rc('font', size=20)\n",
        "n = 7                              # num of data to plot\n",
        "plt.figure(figsize=(3*n, 8))\n",
        "\n",
        "\n",
        "for i in range(n):\n",
        "  input_image = test_dataset[i][0].to(device)\n",
        "  output_image = best_model(input_image.unsqueeze(0))\n",
        "  error_image = torch.abs(input_image[0]-output_image[0])\n",
        "  \n",
        "  ax = plt.subplot(3, n, i+1 )\n",
        "  plt.imshow(input_image[0].cpu())\n",
        "  plt.title('original')\n",
        "  plt.gray()\n",
        "  ax.get_xaxis().set_visible(False)\n",
        "  ax.get_yaxis().set_visible(False)\n",
        "\n",
        "  ax = plt.subplot(3, n, n + i + 1)\n",
        "  plt.imshow(output_image[0].squeeze().detach().cpu())\n",
        "  plt.title('reconstructed')\n",
        "  plt.gray()\n",
        "  ax.get_xaxis().set_visible(False)\n",
        "  ax.get_yaxis().set_visible(False)\n",
        "\n",
        "  ax = plt.subplot(3, n, 2*n + i + 1)\n",
        "  plt.imshow(error_image.squeeze().detach().cpu())\n",
        "  plt.title('error')\n",
        "  plt.gray()\n",
        "  ax.get_xaxis().set_visible(False)\n",
        "  ax.get_yaxis().set_visible(False)\n",
        "\n",
        "plt.tight_layout()\n",
        "plt.show()"
      ],
      "metadata": {
        "id": "ozhPM2pOLZJF"
      },
      "execution_count": null,
      "outputs": []
    },
    {
      "cell_type": "markdown",
      "source": [
        "As you can see, normal data (1) is reconstructed well compared to anomaly data (0). \n",
        "\n",
        "The normal data have lower reconstruction errors (anomaly score), and anomaly data have higher reconstruction errors.\n",
        "\n",
        "Using this difference in anomaly score, anomaly detection can be done."
      ],
      "metadata": {
        "id": "KktMAEMzLenQ"
      }
    }
  ]
}